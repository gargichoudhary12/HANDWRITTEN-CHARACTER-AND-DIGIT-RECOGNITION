{
  "nbformat": 4,
  "nbformat_minor": 0,
  "metadata": {
    "colab": {
      "provenance": []
    },
    "kernelspec": {
      "name": "python3",
      "display_name": "Python 3"
    },
    "language_info": {
      "name": "python"
    }
  },
  "cells": [
    {
      "cell_type": "code",
      "execution_count": null,
      "metadata": {
        "id": "D4jjBELxoTB5"
      },
      "outputs": [],
      "source": [
        "import cv2\n",
        "import imutils\n",
        "import matplotlib\n",
        "import matplotlib.pyplot as plt\n",
        "\n",
        "from sklearn.model_selection import train_test_split\n",
        "\n",
        "import tensorflow as tf\n",
        "\n",
        "from keras.models import Sequential, load_model\n",
        "from keras.callbacks import EarlyStopping, ModelCheckpoint\n",
        "from keras import layers\n",
        "from keras.layers import *\n",
        "from keras.utils import np_utils\n",
        "\n",
        "from tqdm import tqdm\n",
        "\n",
        "import numpy as np\n",
        "import pandas as pd\n",
        "\n",
        "from imutils.contours import sort_contours"
      ]
    },
    {
      "cell_type": "code",
      "source": [
        "from google.colab import drive\n",
        "drive.mount('/content/drive')"
      ],
      "metadata": {
        "colab": {
          "base_uri": "https://localhost:8080/"
        },
        "id": "_NPC4BEs4uns",
        "outputId": "2877540c-bd8c-44ba-9826-481672f03e87"
      },
      "execution_count": null,
      "outputs": [
        {
          "output_type": "stream",
          "name": "stdout",
          "text": [
            "Mounted at /content/drive\n"
          ]
        }
      ]
    },
    {
      "cell_type": "code",
      "source": [
        "train_df = pd.read_csv('/content/drive/MyDrive/emnist-byclass-test (1).csv', header=None, nrows=300000)"
      ],
      "metadata": {
        "id": "gjny03HU5lfu"
      },
      "execution_count": null,
      "outputs": []
    },
    {
      "cell_type": "code",
      "source": [
        "label_map = pd.read_csv(\"/content/drive/MyDrive/emnist-byclass-mapping (2).txt\",\n",
        "                        delimiter = ' ',\n",
        "                        index_col=0,\n",
        "                        header=None,\n",
        "                        squeeze=True)\n",
        "label_map.head()"
      ],
      "metadata": {
        "colab": {
          "base_uri": "https://localhost:8080/"
        },
        "id": "3MSVNiKWo8c2",
        "outputId": "06f26ebd-5a92-4eca-b0e6-77638f1484a0"
      },
      "execution_count": null,
      "outputs": [
        {
          "output_type": "execute_result",
          "data": {
            "text/plain": [
              "0\n",
              "0    48\n",
              "1    49\n",
              "2    50\n",
              "3    51\n",
              "4    52\n",
              "Name: 1, dtype: int64"
            ]
          },
          "metadata": {},
          "execution_count": 10
        }
      ]
    },
    {
      "cell_type": "code",
      "source": [
        "label_dictionary = {}\n",
        "for index, label in enumerate(label_map):\n",
        "    label_dictionary[index] = chr(label)\n",
        "\n",
        "label_dictionary"
      ],
      "metadata": {
        "colab": {
          "base_uri": "https://localhost:8080/"
        },
        "id": "Ir57dLyxpUsa",
        "outputId": "8fdfd2c9-f9e3-4ee2-9714-c8482a302bce"
      },
      "execution_count": null,
      "outputs": [
        {
          "output_type": "execute_result",
          "data": {
            "text/plain": [
              "{0: '0',\n",
              " 1: '1',\n",
              " 2: '2',\n",
              " 3: '3',\n",
              " 4: '4',\n",
              " 5: '5',\n",
              " 6: '6',\n",
              " 7: '7',\n",
              " 8: '8',\n",
              " 9: '9',\n",
              " 10: 'A',\n",
              " 11: 'B',\n",
              " 12: 'C',\n",
              " 13: 'D',\n",
              " 14: 'E',\n",
              " 15: 'F',\n",
              " 16: 'G',\n",
              " 17: 'H',\n",
              " 18: 'I',\n",
              " 19: 'J',\n",
              " 20: 'K',\n",
              " 21: 'L',\n",
              " 22: 'M',\n",
              " 23: 'N',\n",
              " 24: 'O',\n",
              " 25: 'P',\n",
              " 26: 'Q',\n",
              " 27: 'R',\n",
              " 28: 'S',\n",
              " 29: 'T',\n",
              " 30: 'U',\n",
              " 31: 'V',\n",
              " 32: 'W',\n",
              " 33: 'X',\n",
              " 34: 'Y',\n",
              " 35: 'Z',\n",
              " 36: 'a',\n",
              " 37: 'b',\n",
              " 38: 'c',\n",
              " 39: 'd',\n",
              " 40: 'e',\n",
              " 41: 'f',\n",
              " 42: 'g',\n",
              " 43: 'h',\n",
              " 44: 'i',\n",
              " 45: 'j',\n",
              " 46: 'k',\n",
              " 47: 'l',\n",
              " 48: 'm',\n",
              " 49: 'n',\n",
              " 50: 'o',\n",
              " 51: 'p',\n",
              " 52: 'q',\n",
              " 53: 'r',\n",
              " 54: 's',\n",
              " 55: 't',\n",
              " 56: 'u',\n",
              " 57: 'v',\n",
              " 58: 'w',\n",
              " 59: 'x',\n",
              " 60: 'y',\n",
              " 61: 'z'}"
            ]
          },
          "metadata": {},
          "execution_count": 11
        }
      ]
    },
    {
      "cell_type": "code",
      "source": [
        "# Sample entry number 42\n",
        "sample_image = X_train.iloc[42]\n",
        "sample_label = y_train.iloc[42]\n",
        "sample_image.shape, sample_label"
      ],
      "metadata": {
        "colab": {
          "base_uri": "https://localhost:8080/"
        },
        "id": "Uyc1hSDZpY8z",
        "outputId": "ab8466bc-d560-48e8-c122-0ecd4164fcfa"
      },
      "execution_count": null,
      "outputs": [
        {
          "output_type": "execute_result",
          "data": {
            "text/plain": [
              "((784,), 43)"
            ]
          },
          "metadata": {},
          "execution_count": 12
        }
      ]
    },
    {
      "cell_type": "code",
      "source": [
        "W = 28\n",
        "H = 28"
      ],
      "metadata": {
        "id": "f-2EojkhpZ38"
      },
      "execution_count": null,
      "outputs": []
    },
    {
      "cell_type": "code",
      "source": [
        "X_train = X_train.astype('float32') / 255"
      ],
      "metadata": {
        "id": "oeUxvo5ipo_4"
      },
      "execution_count": null,
      "outputs": []
    },
    {
      "cell_type": "code",
      "source": [
        "number_of_classes = y_train.nunique()\n",
        "number_of_classes"
      ],
      "metadata": {
        "colab": {
          "base_uri": "https://localhost:8080/"
        },
        "id": "cwSGCuvmpp8X",
        "outputId": "253c0761-a671-4d1d-8f05-cae9fb907a3b"
      },
      "execution_count": null,
      "outputs": [
        {
          "output_type": "execute_result",
          "data": {
            "text/plain": [
              "62"
            ]
          },
          "metadata": {},
          "execution_count": 20
        }
      ]
    },
    {
      "cell_type": "code",
      "source": [
        "y_train = np_utils.to_categorical(y_train, number_of_classes)\n",
        "y_train.shape"
      ],
      "metadata": {
        "colab": {
          "base_uri": "https://localhost:8080/"
        },
        "id": "rP7CfE8OptMW",
        "outputId": "9c80dd46-f335-4fe7-b7c3-647aa407f0ab"
      },
      "execution_count": null,
      "outputs": [
        {
          "output_type": "execute_result",
          "data": {
            "text/plain": [
              "(116323, 62)"
            ]
          },
          "metadata": {},
          "execution_count": 21
        }
      ]
    },
    {
      "cell_type": "code",
      "source": [
        "y_train"
      ],
      "metadata": {
        "colab": {
          "base_uri": "https://localhost:8080/"
        },
        "id": "P4iAH1LHpvOT",
        "outputId": "16696398-4f44-43e6-cc05-d0d1f839df27"
      },
      "execution_count": null,
      "outputs": [
        {
          "output_type": "execute_result",
          "data": {
            "text/plain": [
              "array([[0., 0., 0., ..., 0., 0., 0.],\n",
              "       [0., 0., 0., ..., 0., 0., 0.],\n",
              "       [1., 0., 0., ..., 0., 0., 0.],\n",
              "       ...,\n",
              "       [0., 0., 0., ..., 0., 0., 0.],\n",
              "       [1., 0., 0., ..., 0., 0., 0.],\n",
              "       [0., 0., 0., ..., 0., 0., 0.]], dtype=float32)"
            ]
          },
          "metadata": {},
          "execution_count": 22
        }
      ]
    },
    {
      "cell_type": "code",
      "source": [
        "# Reshape to fit model input shape\n",
        "# Tensorflow (batch, width, height, channels)\n",
        "X_train = X_train.reshape(-1, W, H, 1)\n",
        "X_train.shape"
      ],
      "metadata": {
        "colab": {
          "base_uri": "https://localhost:8080/"
        },
        "id": "obL7zyPbpxSW",
        "outputId": "e598c784-75a9-40fc-f648-8e2682bc158d"
      },
      "execution_count": null,
      "outputs": [
        {
          "output_type": "execute_result",
          "data": {
            "text/plain": [
              "(116323, 28, 28, 1)"
            ]
          },
          "metadata": {},
          "execution_count": 23
        }
      ]
    },
    {
      "cell_type": "code",
      "source": [
        "# Split 10% validation\n",
        "X_train, X_val, y_train, y_val = train_test_split(X_train,\n",
        "                                                  y_train,\n",
        "                                                  test_size= 0.1,\n",
        "                                                  random_state=88)"
      ],
      "metadata": {
        "id": "GeuNZNslpznI"
      },
      "execution_count": null,
      "outputs": []
    },
    {
      "cell_type": "code",
      "source": [
        "model = Sequential()\n",
        "\n",
        "model.add(layers.Conv2D(filters=6, kernel_size=(3, 3), activation='relu', input_shape=(28,28,1)))\n",
        "model.add(layers.AveragePooling2D())\n",
        "\n",
        "model.add(layers.Conv2D(filters=16, kernel_size=(3, 3), activation='relu'))\n",
        "model.add(layers.AveragePooling2D())\n",
        "\n",
        "model.add(layers.Flatten())\n",
        "\n",
        "model.add(layers.Dense(units=120, activation='relu'))\n",
        "\n",
        "model.add(layers.Dense(units=84, activation='relu'))\n",
        "\n",
        "model.add(layers.Dense(units=number_of_classes, activation = 'softmax'))\n",
        "\n",
        "model.summary()"
      ],
      "metadata": {
        "colab": {
          "base_uri": "https://localhost:8080/"
        },
        "id": "AR_lHumKp1xJ",
        "outputId": "98510546-6f1d-41e7-b457-ee434d1e30de"
      },
      "execution_count": null,
      "outputs": [
        {
          "output_type": "stream",
          "name": "stdout",
          "text": [
            "Model: \"sequential\"\n",
            "_________________________________________________________________\n",
            " Layer (type)                Output Shape              Param #   \n",
            "=================================================================\n",
            " conv2d (Conv2D)             (None, 26, 26, 6)         60        \n",
            "                                                                 \n",
            " average_pooling2d (AverageP  (None, 13, 13, 6)        0         \n",
            " ooling2D)                                                       \n",
            "                                                                 \n",
            " conv2d_1 (Conv2D)           (None, 11, 11, 16)        880       \n",
            "                                                                 \n",
            " average_pooling2d_1 (Averag  (None, 5, 5, 16)         0         \n",
            " ePooling2D)                                                     \n",
            "                                                                 \n",
            " flatten (Flatten)           (None, 400)               0         \n",
            "                                                                 \n",
            " dense (Dense)               (None, 120)               48120     \n",
            "                                                                 \n",
            " dense_1 (Dense)             (None, 84)                10164     \n",
            "                                                                 \n",
            " dense_2 (Dense)             (None, 62)                5270      \n",
            "                                                                 \n",
            "=================================================================\n",
            "Total params: 64,494\n",
            "Trainable params: 64,494\n",
            "Non-trainable params: 0\n",
            "_________________________________________________________________\n"
          ]
        }
      ]
    },
    {
      "cell_type": "code",
      "source": [
        "#Instantiation\n",
        "model = Sequential()\n",
        "\n",
        "#1st Convolutional Layer\n",
        "model.add(Conv2D(filters=96, input_shape=(28,28,1), kernel_size=(11,11), strides=(4,4), padding='same'))\n",
        "model.add(BatchNormalization())\n",
        "model.add(Activation('relu'))\n",
        "model.add(MaxPooling2D(pool_size=(2,2), strides=(2,2), padding='same'))\n",
        "\n",
        "#2nd Convolutional Layer\n",
        "model.add(Conv2D(filters=256, kernel_size=(5, 5), strides=(1,1), padding='same'))\n",
        "model.add(BatchNormalization())\n",
        "model.add(Activation('relu'))\n",
        "model.add(MaxPooling2D(pool_size=(2,2), strides=(2,2), padding='same'))\n",
        "\n",
        "#3rd Convolutional Layer\n",
        "model.add(Conv2D(filters=384, kernel_size=(3,3), strides=(1,1), padding='same'))\n",
        "model.add(BatchNormalization())\n",
        "model.add(Activation('relu'))\n",
        "\n",
        "#4th Convolutional Layer\n",
        "model.add(Conv2D(filters=384, kernel_size=(3,3), strides=(1,1), padding='same'))\n",
        "model.add(BatchNormalization())\n",
        "model.add(Activation('relu'))\n",
        "\n",
        "#5th Convolutional Layer\n",
        "model.add(Conv2D(filters=256, kernel_size=(3,3), strides=(1,1), padding='same'))\n",
        "model.add(BatchNormalization())\n",
        "model.add(Activation('relu'))\n",
        "model.add(MaxPooling2D(pool_size=(2,2), strides=(2,2), padding='same'))\n",
        "\n",
        "#Passing it to a Fully Connected layer\n",
        "model.add(Flatten())\n",
        "# 1st Fully Connected Layer\n",
        "model.add(Dense(4096, input_shape=(32,32,3,)))\n",
        "model.add(BatchNormalization())\n",
        "model.add(Activation('relu'))\n",
        "# Add Dropout to prevent overfitting\n",
        "model.add(Dropout(0.4))\n",
        "\n",
        "#2nd Fully Connected Layer\n",
        "model.add(Dense(4096))\n",
        "model.add(BatchNormalization())\n",
        "model.add(Activation('relu'))\n",
        "#Add Dropout\n",
        "model.add(Dropout(0.4))\n",
        "\n",
        "#3rd Fully Connected Layer\n",
        "model.add(Dense(1000))\n",
        "model.add(BatchNormalization())\n",
        "model.add(Activation('relu'))\n",
        "#Add Dropout\n",
        "model.add(Dropout(0.4))\n",
        "\n",
        "#Output Layer\n",
        "model.add(Dense(number_of_classes))\n",
        "model.add(BatchNormalization())\n",
        "model.add(Activation('softmax'))\n",
        "\n",
        "#Model Summary\n",
        "model.summary()"
      ],
      "metadata": {
        "colab": {
          "base_uri": "https://localhost:8080/"
        },
        "id": "t-OzM2Acp8Lb",
        "outputId": "24140e07-55d9-4fb6-f2f9-f6f952b986ca"
      },
      "execution_count": null,
      "outputs": [
        {
          "output_type": "stream",
          "name": "stdout",
          "text": [
            "Model: \"sequential_1\"\n",
            "_________________________________________________________________\n",
            " Layer (type)                Output Shape              Param #   \n",
            "=================================================================\n",
            " conv2d_2 (Conv2D)           (None, 7, 7, 96)          11712     \n",
            "                                                                 \n",
            " batch_normalization (BatchN  (None, 7, 7, 96)         384       \n",
            " ormalization)                                                   \n",
            "                                                                 \n",
            " activation (Activation)     (None, 7, 7, 96)          0         \n",
            "                                                                 \n",
            " max_pooling2d (MaxPooling2D  (None, 4, 4, 96)         0         \n",
            " )                                                               \n",
            "                                                                 \n",
            " conv2d_3 (Conv2D)           (None, 4, 4, 256)         614656    \n",
            "                                                                 \n",
            " batch_normalization_1 (Batc  (None, 4, 4, 256)        1024      \n",
            " hNormalization)                                                 \n",
            "                                                                 \n",
            " activation_1 (Activation)   (None, 4, 4, 256)         0         \n",
            "                                                                 \n",
            " max_pooling2d_1 (MaxPooling  (None, 2, 2, 256)        0         \n",
            " 2D)                                                             \n",
            "                                                                 \n",
            " conv2d_4 (Conv2D)           (None, 2, 2, 384)         885120    \n",
            "                                                                 \n",
            " batch_normalization_2 (Batc  (None, 2, 2, 384)        1536      \n",
            " hNormalization)                                                 \n",
            "                                                                 \n",
            " activation_2 (Activation)   (None, 2, 2, 384)         0         \n",
            "                                                                 \n",
            " conv2d_5 (Conv2D)           (None, 2, 2, 384)         1327488   \n",
            "                                                                 \n",
            " batch_normalization_3 (Batc  (None, 2, 2, 384)        1536      \n",
            " hNormalization)                                                 \n",
            "                                                                 \n",
            " activation_3 (Activation)   (None, 2, 2, 384)         0         \n",
            "                                                                 \n",
            " conv2d_6 (Conv2D)           (None, 2, 2, 256)         884992    \n",
            "                                                                 \n",
            " batch_normalization_4 (Batc  (None, 2, 2, 256)        1024      \n",
            " hNormalization)                                                 \n",
            "                                                                 \n",
            " activation_4 (Activation)   (None, 2, 2, 256)         0         \n",
            "                                                                 \n",
            " max_pooling2d_2 (MaxPooling  (None, 1, 1, 256)        0         \n",
            " 2D)                                                             \n",
            "                                                                 \n",
            " flatten_1 (Flatten)         (None, 256)               0         \n",
            "                                                                 \n",
            " dense_3 (Dense)             (None, 4096)              1052672   \n",
            "                                                                 \n",
            " batch_normalization_5 (Batc  (None, 4096)             16384     \n",
            " hNormalization)                                                 \n",
            "                                                                 \n",
            " activation_5 (Activation)   (None, 4096)              0         \n",
            "                                                                 \n",
            " dropout (Dropout)           (None, 4096)              0         \n",
            "                                                                 \n",
            " dense_4 (Dense)             (None, 4096)              16781312  \n",
            "                                                                 \n",
            " batch_normalization_6 (Batc  (None, 4096)             16384     \n",
            " hNormalization)                                                 \n",
            "                                                                 \n",
            " activation_6 (Activation)   (None, 4096)              0         \n",
            "                                                                 \n",
            " dropout_1 (Dropout)         (None, 4096)              0         \n",
            "                                                                 \n",
            " dense_5 (Dense)             (None, 1000)              4097000   \n",
            "                                                                 \n",
            " batch_normalization_7 (Batc  (None, 1000)             4000      \n",
            " hNormalization)                                                 \n",
            "                                                                 \n",
            " activation_7 (Activation)   (None, 1000)              0         \n",
            "                                                                 \n",
            " dropout_2 (Dropout)         (None, 1000)              0         \n",
            "                                                                 \n",
            " dense_6 (Dense)             (None, 62)                62062     \n",
            "                                                                 \n",
            " batch_normalization_8 (Batc  (None, 62)               248       \n",
            " hNormalization)                                                 \n",
            "                                                                 \n",
            " activation_8 (Activation)   (None, 62)                0         \n",
            "                                                                 \n",
            "=================================================================\n",
            "Total params: 25,759,534\n",
            "Trainable params: 25,738,274\n",
            "Non-trainable params: 21,260\n",
            "_________________________________________________________________\n"
          ]
        }
      ]
    },
    {
      "cell_type": "code",
      "source": [
        "model = Sequential()\n",
        "\n",
        "model.add(layers.Conv2D(filters=32, kernel_size=(5,5), padding='same', activation='relu', input_shape=(28, 28, 1)))\n",
        "model.add(layers.MaxPool2D(strides=2))\n",
        "model.add(layers.Conv2D(filters=48, kernel_size=(5,5), padding='valid', activation='relu'))\n",
        "model.add(layers.MaxPool2D(strides=2))\n",
        "model.add(layers.Flatten())\n",
        "model.add(layers.Dense(256, activation='relu'))\n",
        "model.add(layers.Dense(84, activation='relu'))\n",
        "model.add(layers.Dense(number_of_classes, activation='softmax'))\n",
        "\n",
        "model.summary()"
      ],
      "metadata": {
        "colab": {
          "base_uri": "https://localhost:8080/"
        },
        "id": "WawgpFe2p_bb",
        "outputId": "87b4090d-3238-4286-ae6f-808783d81224"
      },
      "execution_count": null,
      "outputs": [
        {
          "output_type": "stream",
          "name": "stdout",
          "text": [
            "Model: \"sequential_2\"\n",
            "_________________________________________________________________\n",
            " Layer (type)                Output Shape              Param #   \n",
            "=================================================================\n",
            " conv2d_7 (Conv2D)           (None, 28, 28, 32)        832       \n",
            "                                                                 \n",
            " max_pooling2d_3 (MaxPooling  (None, 14, 14, 32)       0         \n",
            " 2D)                                                             \n",
            "                                                                 \n",
            " conv2d_8 (Conv2D)           (None, 10, 10, 48)        38448     \n",
            "                                                                 \n",
            " max_pooling2d_4 (MaxPooling  (None, 5, 5, 48)         0         \n",
            " 2D)                                                             \n",
            "                                                                 \n",
            " flatten_2 (Flatten)         (None, 1200)              0         \n",
            "                                                                 \n",
            " dense_7 (Dense)             (None, 256)               307456    \n",
            "                                                                 \n",
            " dense_8 (Dense)             (None, 84)                21588     \n",
            "                                                                 \n",
            " dense_9 (Dense)             (None, 62)                5270      \n",
            "                                                                 \n",
            "=================================================================\n",
            "Total params: 373,594\n",
            "Trainable params: 373,594\n",
            "Non-trainable params: 0\n",
            "_________________________________________________________________\n"
          ]
        }
      ]
    },
    {
      "cell_type": "code",
      "source": [
        "optimizer_name = 'adam'\n",
        "\n",
        "model.compile(loss='categorical_crossentropy', optimizer=optimizer_name, metrics=['accuracy'])\n",
        "\n",
        "early_stopping = EarlyStopping(monitor='val_loss', patience=10, verbose=1, mode='min')\n",
        "mcp_save = ModelCheckpoint('sequential_373,594params(25epochs_byclass_300000).h5', save_best_only=True, monitor='val_loss', verbose=1, mode='auto')"
      ],
      "metadata": {
        "id": "eWAnGvieqCOK"
      },
      "execution_count": null,
      "outputs": []
    },
    {
      "cell_type": "code",
      "source": [
        "history = model.fit(X_train,\n",
        "                    y_train,\n",
        "                    epochs=15,\n",
        "                    batch_size=64,\n",
        "                    verbose=1,\n",
        "                    validation_split=0.2,\n",
        "                    callbacks=[mcp_save])"
      ],
      "metadata": {
        "colab": {
          "base_uri": "https://localhost:8080/"
        },
        "id": "1NnVRXpeqFQ1",
        "outputId": "bc1cd629-b71f-4db2-fa73-be61ead49bb9"
      },
      "execution_count": null,
      "outputs": [
        {
          "output_type": "stream",
          "name": "stdout",
          "text": [
            "Epoch 1/15\n",
            "1309/1309 [==============================] - ETA: 0s - loss: 0.8161 - accuracy: 0.7537\n",
            "Epoch 00001: val_loss improved from inf to 0.55598, saving model to sequential_373,594params(25epochs_byclass_300000).h5\n",
            "1309/1309 [==============================] - 125s 95ms/step - loss: 0.8161 - accuracy: 0.7537 - val_loss: 0.5560 - val_accuracy: 0.8131\n",
            "Epoch 2/15\n",
            "1309/1309 [==============================] - ETA: 0s - loss: 0.4773 - accuracy: 0.8326\n",
            "Epoch 00002: val_loss improved from 0.55598 to 0.48648, saving model to sequential_373,594params(25epochs_byclass_300000).h5\n",
            "1309/1309 [==============================] - 113s 86ms/step - loss: 0.4773 - accuracy: 0.8326 - val_loss: 0.4865 - val_accuracy: 0.8332\n",
            "Epoch 3/15\n",
            "1309/1309 [==============================] - ETA: 0s - loss: 0.4200 - accuracy: 0.8468\n",
            "Epoch 00003: val_loss improved from 0.48648 to 0.45688, saving model to sequential_373,594params(25epochs_byclass_300000).h5\n",
            "1309/1309 [==============================] - 113s 86ms/step - loss: 0.4200 - accuracy: 0.8468 - val_loss: 0.4569 - val_accuracy: 0.8383\n",
            "Epoch 4/15\n",
            "1309/1309 [==============================] - ETA: 0s - loss: 0.3851 - accuracy: 0.8567\n",
            "Epoch 00004: val_loss improved from 0.45688 to 0.45026, saving model to sequential_373,594params(25epochs_byclass_300000).h5\n",
            "1309/1309 [==============================] - 111s 84ms/step - loss: 0.3851 - accuracy: 0.8567 - val_loss: 0.4503 - val_accuracy: 0.8435\n",
            "Epoch 5/15\n",
            "1309/1309 [==============================] - ETA: 0s - loss: 0.3543 - accuracy: 0.8650\n",
            "Epoch 00005: val_loss improved from 0.45026 to 0.44290, saving model to sequential_373,594params(25epochs_byclass_300000).h5\n",
            "1309/1309 [==============================] - 112s 85ms/step - loss: 0.3543 - accuracy: 0.8650 - val_loss: 0.4429 - val_accuracy: 0.8441\n",
            "Epoch 6/15\n",
            "1309/1309 [==============================] - ETA: 0s - loss: 0.3335 - accuracy: 0.8709\n",
            "Epoch 00006: val_loss did not improve from 0.44290\n",
            "1309/1309 [==============================] - 111s 85ms/step - loss: 0.3335 - accuracy: 0.8709 - val_loss: 0.4489 - val_accuracy: 0.8472\n",
            "Epoch 7/15\n",
            "1309/1309 [==============================] - ETA: 0s - loss: 0.3105 - accuracy: 0.8783\n",
            "Epoch 00007: val_loss did not improve from 0.44290\n",
            "1309/1309 [==============================] - 110s 84ms/step - loss: 0.3105 - accuracy: 0.8783 - val_loss: 0.4657 - val_accuracy: 0.8443\n",
            "Epoch 8/15\n",
            "1309/1309 [==============================] - ETA: 0s - loss: 0.2921 - accuracy: 0.8842\n",
            "Epoch 00008: val_loss did not improve from 0.44290\n",
            "1309/1309 [==============================] - 110s 84ms/step - loss: 0.2921 - accuracy: 0.8842 - val_loss: 0.4741 - val_accuracy: 0.8396\n",
            "Epoch 9/15\n",
            "1309/1309 [==============================] - ETA: 0s - loss: 0.2740 - accuracy: 0.8908\n",
            "Epoch 00009: val_loss did not improve from 0.44290\n",
            "1309/1309 [==============================] - 110s 84ms/step - loss: 0.2740 - accuracy: 0.8908 - val_loss: 0.4998 - val_accuracy: 0.8341\n",
            "Epoch 10/15\n",
            "1309/1309 [==============================] - ETA: 0s - loss: 0.2604 - accuracy: 0.8955\n",
            "Epoch 00010: val_loss did not improve from 0.44290\n",
            "1309/1309 [==============================] - 112s 86ms/step - loss: 0.2604 - accuracy: 0.8955 - val_loss: 0.5137 - val_accuracy: 0.8364\n",
            "Epoch 11/15\n",
            "1309/1309 [==============================] - ETA: 0s - loss: 0.2451 - accuracy: 0.9008\n",
            "Epoch 00011: val_loss did not improve from 0.44290\n",
            "1309/1309 [==============================] - 111s 84ms/step - loss: 0.2451 - accuracy: 0.9008 - val_loss: 0.5539 - val_accuracy: 0.8344\n",
            "Epoch 12/15\n",
            "1309/1309 [==============================] - ETA: 0s - loss: 0.2308 - accuracy: 0.9065\n",
            "Epoch 00012: val_loss did not improve from 0.44290\n",
            "1309/1309 [==============================] - 111s 85ms/step - loss: 0.2308 - accuracy: 0.9065 - val_loss: 0.5578 - val_accuracy: 0.8367\n",
            "Epoch 13/15\n",
            "1309/1309 [==============================] - ETA: 0s - loss: 0.2181 - accuracy: 0.9115\n",
            "Epoch 00013: val_loss did not improve from 0.44290\n",
            "1309/1309 [==============================] - 111s 85ms/step - loss: 0.2181 - accuracy: 0.9115 - val_loss: 0.6024 - val_accuracy: 0.8357\n",
            "Epoch 14/15\n",
            "1309/1309 [==============================] - ETA: 0s - loss: 0.2056 - accuracy: 0.9175\n",
            "Epoch 00014: val_loss did not improve from 0.44290\n",
            "1309/1309 [==============================] - 111s 85ms/step - loss: 0.2056 - accuracy: 0.9175 - val_loss: 0.6726 - val_accuracy: 0.8294\n",
            "Epoch 15/15\n",
            "1309/1309 [==============================] - ETA: 0s - loss: 0.1967 - accuracy: 0.9202\n",
            "Epoch 00015: val_loss did not improve from 0.44290\n",
            "1309/1309 [==============================] - 111s 85ms/step - loss: 0.1967 - accuracy: 0.9202 - val_loss: 0.6684 - val_accuracy: 0.8303\n"
          ]
        }
      ]
    },
    {
      "cell_type": "code",
      "source": [
        "# plot accuracy and loss\n",
        "def plotgraph(epochs, acc, val_acc):\n",
        "    # Plot training & validation accuracy values\n",
        "    plt.plot(epochs, acc, 'b')\n",
        "    plt.plot(epochs, val_acc, 'r')\n",
        "    plt.title('Model accuracy')\n",
        "    plt.ylabel('Accuracy')\n",
        "    plt.xlabel('Epoch')\n",
        "    plt.legend(['Train', 'Val'], loc='upper left')\n",
        "    plt.show()\n",
        "\n",
        "acc = history.history['accuracy']\n",
        "val_acc = history.history['val_accuracy']\n",
        "loss = history.history['loss']\n",
        "val_loss = history.history['val_loss']\n",
        "epochs = range(1,len(acc)+1)"
      ],
      "metadata": {
        "id": "FS--o2RYwWW9"
      },
      "execution_count": null,
      "outputs": []
    },
    {
      "cell_type": "code",
      "source": [
        "# Accuracy curve\n",
        "plotgraph(epochs, acc, val_acc)"
      ],
      "metadata": {
        "colab": {
          "base_uri": "https://localhost:8080/"
        },
        "id": "3ZFQd3UYwceL",
        "outputId": "62742178-7c40-407b-de71-bd910a565015"
      },
      "execution_count": null,
      "outputs": [
        {
          "output_type": "display_data",
          "data": {
            "image/png": "[encoded data removed]",
            "text/plain": [
              "<Figure size 432x288 with 1 Axes>"
            ]
          },
          "metadata": {
            "needs_background": "light"
          }
        }
      ]
    },
    {
      "cell_type": "code",
      "source": [
        "# loss curve\n",
        "plotgraph(epochs, loss, val_loss)"
      ],
      "metadata": {
        "colab": {
          "base_uri": "https://localhost:8080/"
        },
        "id": "ZYAF_TcYwiMv",
        "outputId": "31232406-d59e-4558-878b-80f91875fc68"
      },
      "execution_count": null,
      "outputs": [
        {
          "output_type": "display_data",
          "data": {
            "image/png": "[encoded data removed]",
            "text/plain": [
              "<Figure size 432x288 with 1 Axes>"
            ]
          },
          "metadata": {
            "needs_background": "light"
          }
        }
      ]
    },
    {
      "cell_type": "code",
      "source": [
        "y_pred = model.predict(X_val)\n",
        "y_pred.shape"
      ],
      "metadata": {
        "colab": {
          "base_uri": "https://localhost:8080/"
        },
        "id": "yoscG-CiwlkQ",
        "outputId": "6c690a61-1683-43da-89c4-7feae86fd6bd"
      },
      "execution_count": null,
      "outputs": [
        {
          "output_type": "execute_result",
          "data": {
            "text/plain": [
              "(11633, 62)"
            ]
          },
          "metadata": {},
          "execution_count": 33
        }
      ]
    },
    {
      "cell_type": "code",
      "source": [
        "z = model.predict(X_train)\n",
        "z[0]"
      ],
      "metadata": {
        "colab": {
          "base_uri": "https://localhost:8080/"
        },
        "id": "2enDJDXrwoww",
        "outputId": "3aeca574-ef5e-4991-8993-80e55f896acf"
      },
      "execution_count": null,
      "outputs": [
        {
          "output_type": "execute_result",
          "data": {
            "text/plain": [
              "array([1.72393527e-07, 7.31191814e-01, 1.16746804e-07, 5.88646198e-09,\n",
              "       1.97378924e-07, 7.66816299e-08, 2.52176324e-06, 7.49334595e-06,\n",
              "       2.91849156e-10, 1.01392992e-07, 1.24880524e-08, 2.86621773e-13,\n",
              "       3.71967030e-06, 6.83453916e-09, 1.07709741e-09, 3.58387354e-07,\n",
              "       1.85559457e-10, 3.00917824e-09, 1.93974227e-01, 2.35851218e-07,\n",
              "       3.51626794e-09, 1.13923879e-05, 8.47182164e-08, 1.33955083e-07,\n",
              "       2.97380853e-09, 1.16348622e-06, 2.43638301e-08, 3.17157162e-10,\n",
              "       2.99469960e-08, 4.13402176e-06, 8.94118628e-08, 7.11449047e-06,\n",
              "       1.81433230e-10, 1.94675618e-08, 3.90377807e-07, 8.64779963e-08,\n",
              "       8.16671957e-08, 6.63544350e-12, 2.59663953e-08, 2.99937533e-08,\n",
              "       1.99313740e-06, 5.54351061e-07, 1.80813640e-08, 1.18889849e-08,\n",
              "       2.36885250e-03, 9.33951287e-06, 1.25672130e-08, 7.23981038e-02,\n",
              "       2.52812296e-08, 1.44104902e-07, 3.31931744e-07, 1.17781747e-06,\n",
              "       5.40691190e-07, 1.29286150e-06, 8.22979074e-10, 7.04583783e-07,\n",
              "       1.12591317e-06, 6.24157929e-06, 1.94532257e-09, 7.66659447e-09,\n",
              "       1.82890346e-07, 3.48745584e-06], dtype=float32)"
            ]
          },
          "metadata": {},
          "execution_count": 34
        }
      ]
    },
    {
      "cell_type": "code",
      "source": [
        "for i in range(10, 16):\n",
        "    plt.subplot(380 + (i%10+1))\n",
        "    plt.imshow(X_val[i].reshape(28, 28), cmap=plt.cm.gray)\n",
        "    plt.title(label_dictionary[y_pred[i].argmax()])"
      ],
      "metadata": {
        "colab": {
          "base_uri": "https://localhost:8080/"
        },
        "id": "Dam7SE2Bw1US",
        "outputId": "cd8acef3-e447-4357-9832-d863150487e1"
      },
      "execution_count": null,
      "outputs": [
        {
          "output_type": "display_data",
          "data": {
            "image/png": "[encoded data removed]",
            "text/plain": [
              "<Figure size 432x288 with 6 Axes>"
            ]
          },
          "metadata": {
            "needs_background": "light"
          }
        }
      ]
    },
    {
      "cell_type": "code",
      "source": [
        "for i in range(42, 48):\n",
        "    plt.subplot(380 + (i%10+1))\n",
        "    plt.imshow(X_val[i].reshape(28, 28), cmap=plt.cm.gray)\n",
        "    plt.title(label_dictionary[y_pred[i].argmax()])"
      ],
      "metadata": {
        "colab": {
          "base_uri": "https://localhost:8080/",
          "height": 100
        },
        "id": "VWHNtU9-w5iA",
        "outputId": "1b02333d-7707-4424-dfb6-0816255d293d"
      },
      "execution_count": null,
      "outputs": [
        {
          "output_type": "display_data",
          "data": {
            "image/png": "[encoded data removed]",
            "text/plain": [
              "<Figure size 432x288 with 6 Axes>"
            ]
          },
          "metadata": {
            "needs_background": "light"
          }
        }
      ]
    },
    {
      "cell_type": "code",
      "source": [
        "model.evaluate(X_val, y_val)"
      ],
      "metadata": {
        "colab": {
          "base_uri": "https://localhost:8080/"
        },
        "id": "oZMgh8zgw93_",
        "outputId": "55e93be2-5f62-4182-db51-1619eef1d43f"
      },
      "execution_count": null,
      "outputs": [
        {
          "output_type": "stream",
          "name": "stdout",
          "text": [
            "364/364 [==============================] - 5s 13ms/step - loss: 0.6327 - accuracy: 0.8311\n"
          ]
        },
        {
          "output_type": "execute_result",
          "data": {
            "text/plain": [
              "[0.6326837539672852, 0.8310840129852295]"
            ]
          },
          "metadata": {},
          "execution_count": 37
        }
      ]
    },
    {
      "cell_type": "code",
      "source": [
        "# load the input image from disk, convert it to grayscale, and blur\n",
        "# it to reduce noise\n",
        "image = cv2.imread('/content/drive/MyDrive/R17.jpg')\n",
        "gray = cv2.cvtColor(image, cv2.COLOR_BGR2GRAY)\n",
        "blurred = cv2.GaussianBlur(gray, (5, 5), 0)"
      ],
      "metadata": {
        "id": "l1u0VR7JxBqA"
      },
      "execution_count": null,
      "outputs": []
    },
    {
      "cell_type": "code",
      "source": [
        "# perform edge detection, find contours in the edge map, and sort the\n",
        "# resulting contours from left-to-right\n",
        "edged = cv2.Canny(blurred, 30, 150)\n",
        "cnts = cv2.findContours(edged.copy(), cv2.RETR_EXTERNAL, cv2.CHAIN_APPROX_SIMPLE)\n",
        "\n",
        "cnts = imutils.grab_contours(cnts)\n",
        "cnts = sort_contours(cnts, method=\"left-to-right\")[0]"
      ],
      "metadata": {
        "id": "hZOlM377xE4w"
      },
      "execution_count": null,
      "outputs": []
    },
    {
      "cell_type": "code",
      "source": [
        "# initialize the list of contour bounding boxes and associated\n",
        "# characters that we'll be OCR'ing\n",
        "chars = []"
      ],
      "metadata": {
        "id": "WQjEkBZcyPb_"
      },
      "execution_count": null,
      "outputs": []
    },
    {
      "cell_type": "code",
      "source": [
        "# loop over the contours\n",
        "for c in cnts:\n",
        "\t# compute the bounding box of the contour\n",
        "\t(x, y, w, h) = cv2.boundingRect(c)\n",
        "\n",
        "\t# filter out bounding boxes, ensuring they are neither too small\n",
        "\t# nor too large\n",
        "\tif (w >= 5 and w <= 150) and (h >= 15 and h <= 120):\n",
        "\t\t# extract the character and threshold it to make the character\n",
        "\t\t# appear as *white* (foreground) on a *black* background, then\n",
        "\t\t# grab the width and height of the thresholded image\n",
        "\t\troi = gray[y:y + h, x:x + w]\n",
        "\t\tthresh = cv2.threshold(roi, 0, 255,\n",
        "\t\t\tcv2.THRESH_BINARY_INV | cv2.THRESH_OTSU)[1]\n",
        "\t\t(tH, tW) = thresh.shape\n",
        "\n",
        "\t\t# if the width is greater than the height, resize along the\n",
        "\t\t# width dimension\n",
        "\t\tif tW > tH:\n",
        "\t\t\tthresh = imutils.resize(thresh, width=28)\n",
        "\n",
        "\t\t# otherwise, resize along the height\n",
        "\t\telse:\n",
        "\t\t\tthresh = imutils.resize(thresh, height=28)\n",
        "\n",
        "\t\t# re-grab the image dimensions (now that its been resized)\n",
        "\t\t# and then determine how much we need to pad the width and\n",
        "\t\t# height such that our image will be 32x32\n",
        "\t\t(tH, tW) = thresh.shape\n",
        "\t\tdX = int(max(0, 28 - tW) / 2.0)\n",
        "\t\tdY = int(max(0, 28 - tH) / 2.0)\n",
        "\n",
        "\t\t# pad the image and force 32x32 dimensions\n",
        "\t\tpadded = cv2.copyMakeBorder(thresh, top=dY, bottom=dY,\n",
        "\t\t\tleft=dX, right=dX, borderType=cv2.BORDER_CONSTANT,\n",
        "\t\t\tvalue=(0, 0, 0))\n",
        "\t\tpadded = cv2.resize(padded, (28, 28))\n",
        "\n",
        "\t\t# prepare the padded image for classification via our\n",
        "\t\t# handwriting OCR model\n",
        "\t\tpadded = padded.astype(\"float32\") / 255.0\n",
        "\t\tpadded = np.expand_dims(padded, axis=-1)\n",
        "\n",
        "\t\t# update our list of characters that will be OCR'd\n",
        "\t\tchars.append((padded, (x, y, w, h)))"
      ],
      "metadata": {
        "id": "bwfR6HK0yTqY"
      },
      "execution_count": null,
      "outputs": []
    },
    {
      "cell_type": "code",
      "source": [
        "# extract the bounding box locations and padded characters\n",
        "boxes = [b[1] for b in chars]\n",
        "chars = np.array([c[0] for c in chars], dtype=\"float32\")"
      ],
      "metadata": {
        "id": "CFxH169FyWCw"
      },
      "execution_count": null,
      "outputs": []
    },
    {
      "cell_type": "code",
      "source": [
        "# OCR the characters using our handwriting recognition model\n",
        "preds = model.predict(chars)"
      ],
      "metadata": {
        "id": "ExIz6l6cyZNb"
      },
      "execution_count": null,
      "outputs": []
    },
    {
      "cell_type": "code",
      "source": [
        "# define the list of label names\n",
        "labelNames = \"0123456789\"\n",
        "labelNames += \"ABCDEFGHIJKLMNOPQRSTUVWXYZabcdefghijklmnopqrstuvwxyz\"\n",
        "labelNames = [l for l in labelNames]"
      ],
      "metadata": {
        "id": "3Fhxs7QYybwA"
      },
      "execution_count": null,
      "outputs": []
    },
    {
      "cell_type": "code",
      "source": [
        "from google.colab.patches import cv2_imshow"
      ],
      "metadata": {
        "id": "8AQ-PIgjyd4X"
      },
      "execution_count": null,
      "outputs": []
    },
    {
      "cell_type": "code",
      "source": [
        "# loop over the predictions and bounding box locations together\n",
        "for (pred, (x, y, w, h)) in zip(preds, boxes):\n",
        "\t# find the index of the label with the largest corresponding\n",
        "\t# probability, then extract the probability and label\n",
        "\ti = np.argmax(pred)\n",
        "\tprob = pred[i]\n",
        "\tlabel = labelNames[i]\n",
        "\n",
        "\t# draw the prediction on the image\n",
        "\tprint(\"[INFO] {} - {:.2f}%\".format(label, prob * 100))\n",
        "\tcv2.rectangle(image, (x, y), (x + w, y + h), (0, 255, 0), 2)\n",
        "\tcv2.putText(image, label, (x - 10, y - 10),\n",
        "\tcv2.FONT_HERSHEY_SIMPLEX, 1.2, (0, 255, 0), 2)\n",
        "\n",
        "# show the image\n",
        "cv2_imshow(image)"
      ],
      "metadata": {
        "colab": {
          "base_uri": "https://localhost:8080/"
        },
        "id": "NhyipKkDyoVC",
        "outputId": "a78f95ba-3b65-4067-99a4-812844d74579"
      },
      "execution_count": null,
      "outputs": [
        {
          "output_type": "stream",
          "name": "stdout",
          "text": [
            "[INFO] R - 100.00%\n",
            "[INFO] 1 - 55.86%\n",
            "[INFO] 9 - 55.73%\n"
          ]
        },
        {
          "output_type": "display_data",
          "data": {
            "image/png": "[encoded data removed]",
            "text/plain": [
              "<PIL.Image.Image image mode=RGB size=217x87 at 0x7F1FFDF3CB10>"
            ]
          },
          "metadata": {}
        }
      ]
    }
  ]
}